{
 "cells": [
  {
   "cell_type": "code",
   "execution_count": 1,
   "metadata": {},
   "outputs": [],
   "source": [
    "import tensorflow as tf\n",
    "\n",
    "import pandas as pd"
   ]
  },
  {
   "cell_type": "code",
   "execution_count": 2,
   "metadata": {},
   "outputs": [],
   "source": [
    "CSV_COLUMN_NAMES = ['SepalLength', 'SepalWidth', 'PetalLength', 'PetalWidth', 'Species']\n",
    "SPECIES = ['Setosa', 'Versicolor', 'Virginica']"
   ]
  },
  {
   "cell_type": "code",
   "execution_count": 3,
   "metadata": {},
   "outputs": [
    {
     "name": "stdout",
     "output_type": "stream",
     "text": [
      "Downloading data from https://storage.googleapis.com/download.tensorflow.org/data/iris_training.csv\n",
      "8192/2194 [================================================================================================================] - 0s 3us/step\n",
      "Downloading data from https://storage.googleapis.com/download.tensorflow.org/data/iris_test.csv\n",
      "8192/573 [============================================================================================================================================================================================================================================================================================================================================================================================================================================] - 0s 0us/step\n"
     ]
    }
   ],
   "source": [
    "train_path = tf.keras.utils.get_file(\n",
    "    \"iris_training.csv\", \"https://storage.googleapis.com/download.tensorflow.org/data/iris_training.csv\")\n",
    "test_path = tf.keras.utils.get_file(\n",
    "    \"iris_test.csv\", \"https://storage.googleapis.com/download.tensorflow.org/data/iris_test.csv\")\n",
    "\n",
    "train = pd.read_csv(train_path, names=CSV_COLUMN_NAMES, header=0)\n",
    "test = pd.read_csv(test_path, names=CSV_COLUMN_NAMES, header=0)"
   ]
  },
  {
   "cell_type": "code",
   "execution_count": 4,
   "metadata": {},
   "outputs": [
    {
     "data": {
      "text/html": [
       "<div>\n",
       "<style scoped>\n",
       "    .dataframe tbody tr th:only-of-type {\n",
       "        vertical-align: middle;\n",
       "    }\n",
       "\n",
       "    .dataframe tbody tr th {\n",
       "        vertical-align: top;\n",
       "    }\n",
       "\n",
       "    .dataframe thead th {\n",
       "        text-align: right;\n",
       "    }\n",
       "</style>\n",
       "<table border=\"1\" class=\"dataframe\">\n",
       "  <thead>\n",
       "    <tr style=\"text-align: right;\">\n",
       "      <th></th>\n",
       "      <th>SepalLength</th>\n",
       "      <th>SepalWidth</th>\n",
       "      <th>PetalLength</th>\n",
       "      <th>PetalWidth</th>\n",
       "      <th>Species</th>\n",
       "    </tr>\n",
       "  </thead>\n",
       "  <tbody>\n",
       "    <tr>\n",
       "      <th>0</th>\n",
       "      <td>6.4</td>\n",
       "      <td>2.8</td>\n",
       "      <td>5.6</td>\n",
       "      <td>2.2</td>\n",
       "      <td>2</td>\n",
       "    </tr>\n",
       "    <tr>\n",
       "      <th>1</th>\n",
       "      <td>5.0</td>\n",
       "      <td>2.3</td>\n",
       "      <td>3.3</td>\n",
       "      <td>1.0</td>\n",
       "      <td>1</td>\n",
       "    </tr>\n",
       "    <tr>\n",
       "      <th>2</th>\n",
       "      <td>4.9</td>\n",
       "      <td>2.5</td>\n",
       "      <td>4.5</td>\n",
       "      <td>1.7</td>\n",
       "      <td>2</td>\n",
       "    </tr>\n",
       "    <tr>\n",
       "      <th>3</th>\n",
       "      <td>4.9</td>\n",
       "      <td>3.1</td>\n",
       "      <td>1.5</td>\n",
       "      <td>0.1</td>\n",
       "      <td>0</td>\n",
       "    </tr>\n",
       "    <tr>\n",
       "      <th>4</th>\n",
       "      <td>5.7</td>\n",
       "      <td>3.8</td>\n",
       "      <td>1.7</td>\n",
       "      <td>0.3</td>\n",
       "      <td>0</td>\n",
       "    </tr>\n",
       "  </tbody>\n",
       "</table>\n",
       "</div>"
      ],
      "text/plain": [
       "   SepalLength  SepalWidth  PetalLength  PetalWidth  Species\n",
       "0          6.4         2.8          5.6         2.2        2\n",
       "1          5.0         2.3          3.3         1.0        1\n",
       "2          4.9         2.5          4.5         1.7        2\n",
       "3          4.9         3.1          1.5         0.1        0\n",
       "4          5.7         3.8          1.7         0.3        0"
      ]
     },
     "execution_count": 4,
     "metadata": {},
     "output_type": "execute_result"
    }
   ],
   "source": [
    "train.head()"
   ]
  },
  {
   "cell_type": "code",
   "execution_count": 5,
   "metadata": {},
   "outputs": [
    {
     "data": {
      "text/html": [
       "<div>\n",
       "<style scoped>\n",
       "    .dataframe tbody tr th:only-of-type {\n",
       "        vertical-align: middle;\n",
       "    }\n",
       "\n",
       "    .dataframe tbody tr th {\n",
       "        vertical-align: top;\n",
       "    }\n",
       "\n",
       "    .dataframe thead th {\n",
       "        text-align: right;\n",
       "    }\n",
       "</style>\n",
       "<table border=\"1\" class=\"dataframe\">\n",
       "  <thead>\n",
       "    <tr style=\"text-align: right;\">\n",
       "      <th></th>\n",
       "      <th>SepalLength</th>\n",
       "      <th>SepalWidth</th>\n",
       "      <th>PetalLength</th>\n",
       "      <th>PetalWidth</th>\n",
       "    </tr>\n",
       "  </thead>\n",
       "  <tbody>\n",
       "    <tr>\n",
       "      <th>0</th>\n",
       "      <td>6.4</td>\n",
       "      <td>2.8</td>\n",
       "      <td>5.6</td>\n",
       "      <td>2.2</td>\n",
       "    </tr>\n",
       "    <tr>\n",
       "      <th>1</th>\n",
       "      <td>5.0</td>\n",
       "      <td>2.3</td>\n",
       "      <td>3.3</td>\n",
       "      <td>1.0</td>\n",
       "    </tr>\n",
       "    <tr>\n",
       "      <th>2</th>\n",
       "      <td>4.9</td>\n",
       "      <td>2.5</td>\n",
       "      <td>4.5</td>\n",
       "      <td>1.7</td>\n",
       "    </tr>\n",
       "    <tr>\n",
       "      <th>3</th>\n",
       "      <td>4.9</td>\n",
       "      <td>3.1</td>\n",
       "      <td>1.5</td>\n",
       "      <td>0.1</td>\n",
       "    </tr>\n",
       "    <tr>\n",
       "      <th>4</th>\n",
       "      <td>5.7</td>\n",
       "      <td>3.8</td>\n",
       "      <td>1.7</td>\n",
       "      <td>0.3</td>\n",
       "    </tr>\n",
       "  </tbody>\n",
       "</table>\n",
       "</div>"
      ],
      "text/plain": [
       "   SepalLength  SepalWidth  PetalLength  PetalWidth\n",
       "0          6.4         2.8          5.6         2.2\n",
       "1          5.0         2.3          3.3         1.0\n",
       "2          4.9         2.5          4.5         1.7\n",
       "3          4.9         3.1          1.5         0.1\n",
       "4          5.7         3.8          1.7         0.3"
      ]
     },
     "execution_count": 5,
     "metadata": {},
     "output_type": "execute_result"
    }
   ],
   "source": [
    "train_y = train.pop('Species')\n",
    "test_y = test.pop('Species')\n",
    "\n",
    "train.head()"
   ]
  },
  {
   "cell_type": "code",
   "execution_count": 6,
   "metadata": {},
   "outputs": [],
   "source": [
    "def input_evaluation_set():\n",
    "    features = {'SepalLength': np.array([6.4, 5.0]),\n",
    "                'SepalWidth':  np.array([2.8, 2.3]),\n",
    "                'PetalLength': np.array([5.6, 3.3]),\n",
    "                'PetalWidth':  np.array([2.2, 1.0])}\n",
    "    labels = np.array([2, 1])\n",
    "    return features, labels"
   ]
  },
  {
   "cell_type": "code",
   "execution_count": 7,
   "metadata": {},
   "outputs": [],
   "source": [
    "def input_fn(features, labels, training=True, batch_size=256):\n",
    "    \"\"\"An input function for training or evaluating\"\"\"\n",
    "    # Convert the inputs to a Dataset.\n",
    "    dataset = tf.data.Dataset.from_tensor_slices((dict(features), labels))\n",
    "\n",
    "    # Shuffle and repeat if you are in training mode.\n",
    "    if training:\n",
    "        dataset = dataset.shuffle(1000).repeat()\n",
    "    \n",
    "    return dataset.batch(batch_size)\n"
   ]
  },
  {
   "cell_type": "code",
   "execution_count": 10,
   "metadata": {},
   "outputs": [],
   "source": [
    "# Feature columns describe how to use the input.\n",
    "my_feature_columns = []\n",
    "for key in train.keys():\n",
    "    my_feature_columns.append(tf.feature_column.numeric_column(key=key))"
   ]
  },
  {
   "cell_type": "code",
   "execution_count": 11,
   "metadata": {},
   "outputs": [
    {
     "name": "stdout",
     "output_type": "stream",
     "text": [
      "INFO:tensorflow:Using default config.\n",
      "WARNING:tensorflow:Using temporary folder as model directory: C:\\Users\\preetham\\AppData\\Local\\Temp\\tmpkere2d7w\n",
      "INFO:tensorflow:Using config: {'_model_dir': 'C:\\\\Users\\\\preetham\\\\AppData\\\\Local\\\\Temp\\\\tmpkere2d7w', '_tf_random_seed': None, '_save_summary_steps': 100, '_save_checkpoints_steps': None, '_save_checkpoints_secs': 600, '_session_config': allow_soft_placement: true\n",
      "graph_options {\n",
      "  rewrite_options {\n",
      "    meta_optimizer_iterations: ONE\n",
      "  }\n",
      "}\n",
      ", '_keep_checkpoint_max': 5, '_keep_checkpoint_every_n_hours': 10000, '_log_step_count_steps': 100, '_train_distribute': None, '_device_fn': None, '_protocol': None, '_eval_distribute': None, '_experimental_distribute': None, '_experimental_max_worker_delay_secs': None, '_session_creation_timeout_secs': 7200, '_service': None, '_cluster_spec': ClusterSpec({}), '_task_type': 'worker', '_task_id': 0, '_global_id_in_cluster': 0, '_master': '', '_evaluation_master': '', '_is_chief': True, '_num_ps_replicas': 0, '_num_worker_replicas': 1}\n"
     ]
    }
   ],
   "source": [
    "# Build a DNN with 2 hidden layers with 30 and 10 hidden nodes each.\n",
    "classifier = tf.estimator.DNNClassifier(\n",
    "feature_columns = my_feature_columns,\n",
    "#two hidden layers of 30 and 10 nodes respectively\n",
    "hidden_units=[30,10],\n",
    "#the model must choose between 3 classes\n",
    "n_classes = 3)"
   ]
  },
  {
   "cell_type": "code",
   "execution_count": 13,
   "metadata": {},
   "outputs": [
    {
     "name": "stdout",
     "output_type": "stream",
     "text": [
      "WARNING:tensorflow:From C:\\Users\\preetham\\AppData\\Local\\Continuum\\anaconda3\\envs\\ml\\lib\\site-packages\\tensorflow\\python\\training\\training_util.py:235: Variable.initialized_value (from tensorflow.python.ops.variables) is deprecated and will be removed in a future version.\n",
      "Instructions for updating:\n",
      "Use Variable.read_value. Variables in 2.X are initialized automatically both in eager and graph (inside tf.defun) contexts.\n",
      "INFO:tensorflow:Calling model_fn.\n",
      "WARNING:tensorflow:Layer dnn is casting an input tensor from dtype float64 to the layer's dtype of float32, which is new behavior in TensorFlow 2.  The layer has dtype float32 because its dtype defaults to floatx.\n",
      "\n",
      "If you intended to run this layer in float32, you can safely ignore this warning. If in doubt, this warning is likely only an issue if you are porting a TensorFlow 1.X model to TensorFlow 2.\n",
      "\n",
      "To change all layers to have dtype float64 by default, call `tf.keras.backend.set_floatx('float64')`. To change just this layer, pass dtype='float64' to the layer constructor. If you are the author of this layer, you can disable autocasting by passing autocast=False to the base Layer constructor.\n",
      "\n",
      "WARNING:tensorflow:From C:\\Users\\preetham\\AppData\\Local\\Continuum\\anaconda3\\envs\\ml\\lib\\site-packages\\tensorflow\\python\\keras\\optimizer_v2\\adagrad.py:82: calling Constant.__init__ (from tensorflow.python.ops.init_ops) with dtype is deprecated and will be removed in a future version.\n",
      "Instructions for updating:\n",
      "Call initializer instance with the dtype argument instead of passing it to the constructor\n",
      "INFO:tensorflow:Done calling model_fn.\n",
      "INFO:tensorflow:Create CheckpointSaverHook.\n",
      "INFO:tensorflow:Graph was finalized.\n",
      "INFO:tensorflow:Running local_init_op.\n",
      "INFO:tensorflow:Done running local_init_op.\n",
      "INFO:tensorflow:Calling checkpoint listeners before saving checkpoint 0...\n",
      "INFO:tensorflow:Saving checkpoints for 0 into C:\\Users\\preetham\\AppData\\Local\\Temp\\tmpkere2d7w\\model.ckpt.\n",
      "INFO:tensorflow:Calling checkpoint listeners after saving checkpoint 0...\n",
      "INFO:tensorflow:loss = 1.086033, step = 0\n",
      "INFO:tensorflow:global_step/sec: 283.439\n",
      "INFO:tensorflow:loss = 0.8626466, step = 100 (0.324 sec)\n",
      "INFO:tensorflow:global_step/sec: 432.939\n",
      "INFO:tensorflow:loss = 0.79750264, step = 200 (0.231 sec)\n",
      "INFO:tensorflow:global_step/sec: 361.978\n",
      "INFO:tensorflow:loss = 0.7671317, step = 300 (0.300 sec)\n",
      "INFO:tensorflow:global_step/sec: 339.889\n",
      "INFO:tensorflow:loss = 0.72776985, step = 400 (0.273 sec)\n",
      "INFO:tensorflow:global_step/sec: 399.473\n",
      "INFO:tensorflow:loss = 0.70370394, step = 500 (0.248 sec)\n",
      "INFO:tensorflow:global_step/sec: 462.94\n",
      "INFO:tensorflow:loss = 0.6637707, step = 600 (0.220 sec)\n",
      "INFO:tensorflow:global_step/sec: 354.252\n",
      "INFO:tensorflow:loss = 0.62250245, step = 700 (0.278 sec)\n",
      "INFO:tensorflow:global_step/sec: 351.816\n",
      "INFO:tensorflow:loss = 0.6085272, step = 800 (0.284 sec)\n",
      "INFO:tensorflow:global_step/sec: 368.746\n",
      "INFO:tensorflow:loss = 0.5935109, step = 900 (0.276 sec)\n",
      "INFO:tensorflow:global_step/sec: 504.844\n",
      "INFO:tensorflow:loss = 0.5982484, step = 1000 (0.194 sec)\n",
      "INFO:tensorflow:global_step/sec: 524.961\n",
      "INFO:tensorflow:loss = 0.5816779, step = 1100 (0.188 sec)\n",
      "INFO:tensorflow:global_step/sec: 544.931\n",
      "INFO:tensorflow:loss = 0.56436265, step = 1200 (0.185 sec)\n",
      "INFO:tensorflow:global_step/sec: 582.951\n",
      "INFO:tensorflow:loss = 0.5557515, step = 1300 (0.171 sec)\n",
      "INFO:tensorflow:global_step/sec: 405.91\n",
      "INFO:tensorflow:loss = 0.54733855, step = 1400 (0.246 sec)\n",
      "INFO:tensorflow:global_step/sec: 440.19\n",
      "INFO:tensorflow:loss = 0.53046435, step = 1500 (0.228 sec)\n",
      "INFO:tensorflow:global_step/sec: 549.374\n",
      "INFO:tensorflow:loss = 0.5174729, step = 1600 (0.186 sec)\n",
      "INFO:tensorflow:global_step/sec: 534.179\n",
      "INFO:tensorflow:loss = 0.51570624, step = 1700 (0.186 sec)\n",
      "INFO:tensorflow:global_step/sec: 458.439\n",
      "INFO:tensorflow:loss = 0.5050184, step = 1800 (0.215 sec)\n",
      "INFO:tensorflow:global_step/sec: 412.624\n",
      "INFO:tensorflow:loss = 0.5020392, step = 1900 (0.245 sec)\n",
      "INFO:tensorflow:global_step/sec: 225.82\n",
      "INFO:tensorflow:loss = 0.48345768, step = 2000 (0.442 sec)\n",
      "INFO:tensorflow:global_step/sec: 268.826\n",
      "INFO:tensorflow:loss = 0.4884871, step = 2100 (0.369 sec)\n",
      "INFO:tensorflow:global_step/sec: 282.009\n",
      "INFO:tensorflow:loss = 0.4748262, step = 2200 (0.359 sec)\n",
      "INFO:tensorflow:global_step/sec: 577.866\n",
      "INFO:tensorflow:loss = 0.4572543, step = 2300 (0.168 sec)\n",
      "INFO:tensorflow:global_step/sec: 583.844\n",
      "INFO:tensorflow:loss = 0.46615705, step = 2400 (0.172 sec)\n",
      "INFO:tensorflow:global_step/sec: 594.651\n",
      "INFO:tensorflow:loss = 0.4651971, step = 2500 (0.168 sec)\n",
      "INFO:tensorflow:global_step/sec: 586.36\n",
      "INFO:tensorflow:loss = 0.45107517, step = 2600 (0.171 sec)\n",
      "INFO:tensorflow:global_step/sec: 600.404\n",
      "INFO:tensorflow:loss = 0.45307785, step = 2700 (0.169 sec)\n",
      "INFO:tensorflow:global_step/sec: 550.916\n",
      "INFO:tensorflow:loss = 0.4317634, step = 2800 (0.180 sec)\n",
      "INFO:tensorflow:global_step/sec: 459.946\n",
      "INFO:tensorflow:loss = 0.45036557, step = 2900 (0.219 sec)\n",
      "INFO:tensorflow:global_step/sec: 428.496\n",
      "INFO:tensorflow:loss = 0.44237518, step = 3000 (0.233 sec)\n",
      "INFO:tensorflow:global_step/sec: 517.969\n",
      "INFO:tensorflow:loss = 0.4506985, step = 3100 (0.192 sec)\n",
      "INFO:tensorflow:global_step/sec: 609.433\n",
      "INFO:tensorflow:loss = 0.4310875, step = 3200 (0.172 sec)\n",
      "INFO:tensorflow:global_step/sec: 563.779\n",
      "INFO:tensorflow:loss = 0.4274727, step = 3300 (0.170 sec)\n",
      "INFO:tensorflow:global_step/sec: 445.894\n",
      "INFO:tensorflow:loss = 0.41369677, step = 3400 (0.224 sec)\n",
      "INFO:tensorflow:global_step/sec: 440.141\n",
      "INFO:tensorflow:loss = 0.4287979, step = 3500 (0.228 sec)\n",
      "INFO:tensorflow:global_step/sec: 406.67\n",
      "INFO:tensorflow:loss = 0.424882, step = 3600 (0.245 sec)\n",
      "INFO:tensorflow:global_step/sec: 445.634\n",
      "INFO:tensorflow:loss = 0.41626862, step = 3700 (0.222 sec)\n",
      "INFO:tensorflow:global_step/sec: 600.403\n",
      "INFO:tensorflow:loss = 0.4315152, step = 3800 (0.167 sec)\n",
      "INFO:tensorflow:global_step/sec: 596.834\n",
      "INFO:tensorflow:loss = 0.41086537, step = 3900 (0.168 sec)\n",
      "INFO:tensorflow:global_step/sec: 593.297\n",
      "INFO:tensorflow:loss = 0.40733677, step = 4000 (0.170 sec)\n",
      "INFO:tensorflow:global_step/sec: 604.955\n",
      "INFO:tensorflow:loss = 0.4200422, step = 4100 (0.166 sec)\n",
      "INFO:tensorflow:global_step/sec: 479.749\n",
      "INFO:tensorflow:loss = 0.420642, step = 4200 (0.210 sec)\n",
      "INFO:tensorflow:global_step/sec: 437.85\n",
      "INFO:tensorflow:loss = 0.39101064, step = 4300 (0.224 sec)\n",
      "INFO:tensorflow:global_step/sec: 490.273\n",
      "INFO:tensorflow:loss = 0.39399084, step = 4400 (0.207 sec)\n",
      "INFO:tensorflow:global_step/sec: 530.472\n",
      "INFO:tensorflow:loss = 0.40050584, step = 4500 (0.185 sec)\n",
      "INFO:tensorflow:global_step/sec: 445.664\n",
      "INFO:tensorflow:loss = 0.4002037, step = 4600 (0.225 sec)\n",
      "INFO:tensorflow:global_step/sec: 582.954\n",
      "INFO:tensorflow:loss = 0.3804039, step = 4700 (0.175 sec)\n",
      "INFO:tensorflow:global_step/sec: 376.945\n",
      "INFO:tensorflow:loss = 0.39595053, step = 4800 (0.262 sec)\n",
      "INFO:tensorflow:global_step/sec: 424.862\n",
      "INFO:tensorflow:loss = 0.37550992, step = 4900 (0.241 sec)\n",
      "INFO:tensorflow:Calling checkpoint listeners before saving checkpoint 5000...\n",
      "INFO:tensorflow:Saving checkpoints for 5000 into C:\\Users\\preetham\\AppData\\Local\\Temp\\tmpkere2d7w\\model.ckpt.\n",
      "INFO:tensorflow:Calling checkpoint listeners after saving checkpoint 5000...\n",
      "INFO:tensorflow:Loss for final step: 0.37894186.\n"
     ]
    },
    {
     "data": {
      "text/plain": [
       "<tensorflow_estimator.python.estimator.canned.dnn.DNNClassifierV2 at 0x1aba39a5880>"
      ]
     },
     "execution_count": 13,
     "metadata": {},
     "output_type": "execute_result"
    }
   ],
   "source": [
    "#train the model.\n",
    "classifier.train(\n",
    "input_fn=lambda:input_fn(train,train_y,training=True),\n",
    "steps = 5000)"
   ]
  },
  {
   "cell_type": "code",
   "execution_count": 14,
   "metadata": {},
   "outputs": [
    {
     "name": "stdout",
     "output_type": "stream",
     "text": [
      "INFO:tensorflow:Calling model_fn.\n",
      "WARNING:tensorflow:Layer dnn is casting an input tensor from dtype float64 to the layer's dtype of float32, which is new behavior in TensorFlow 2.  The layer has dtype float32 because its dtype defaults to floatx.\n",
      "\n",
      "If you intended to run this layer in float32, you can safely ignore this warning. If in doubt, this warning is likely only an issue if you are porting a TensorFlow 1.X model to TensorFlow 2.\n",
      "\n",
      "To change all layers to have dtype float64 by default, call `tf.keras.backend.set_floatx('float64')`. To change just this layer, pass dtype='float64' to the layer constructor. If you are the author of this layer, you can disable autocasting by passing autocast=False to the base Layer constructor.\n",
      "\n",
      "INFO:tensorflow:Done calling model_fn.\n",
      "INFO:tensorflow:Starting evaluation at 2020-07-13T20:36:30Z\n",
      "INFO:tensorflow:Graph was finalized.\n",
      "INFO:tensorflow:Restoring parameters from C:\\Users\\preetham\\AppData\\Local\\Temp\\tmpkere2d7w\\model.ckpt-5000\n",
      "INFO:tensorflow:Running local_init_op.\n",
      "INFO:tensorflow:Done running local_init_op.\n",
      "INFO:tensorflow:Inference Time : 1.25677s\n",
      "INFO:tensorflow:Finished evaluation at 2020-07-13-20:36:31\n",
      "INFO:tensorflow:Saving dict for global step 5000: accuracy = 0.8, average_loss = 0.4726597, global_step = 5000, loss = 0.4726597\n",
      "INFO:tensorflow:Saving 'checkpoint_path' summary for global step 5000: C:\\Users\\preetham\\AppData\\Local\\Temp\\tmpkere2d7w\\model.ckpt-5000\n",
      "\n",
      "Test set accuracy: 0.800\n",
      "\n"
     ]
    }
   ],
   "source": [
    "eval_result = classifier.evaluate(\n",
    "    input_fn=lambda: input_fn(test, test_y, training=False))\n",
    "\n",
    "print('\\nTest set accuracy: {accuracy:0.3f}\\n'.format(**eval_result))"
   ]
  },
  {
   "cell_type": "code",
   "execution_count": 34,
   "metadata": {},
   "outputs": [],
   "source": [
    "# Generate predictions from the model\n",
    "expected = ['Setosa', 'Versicolor', 'Virginica']\n",
    "predict_x = {\n",
    "    'SepalLength': [5.1, 5.9, 6.9],\n",
    "    'SepalWidth': [3.3, 3.0, 3.1],\n",
    "    'PetalLength': [1.7, 4.2, 5.4],\n",
    "    'PetalWidth': [0.5, 1.5, 2.1],\n",
    "}\n",
    "\n",
    "def input_fn(features, batch_size=256):\n",
    "    \"\"\"An input function for prediction.\"\"\"\n",
    "    # Convert the inputs to a Dataset without labels.\n",
    "    return tf.data.Dataset.from_tensor_slices(dict(features)).batch(batch_size)\n",
    "\n",
    "predictions = classifier.predict(\n",
    "    input_fn=lambda: input_fn(predict_x))"
   ]
  },
  {
   "cell_type": "code",
   "execution_count": 35,
   "metadata": {},
   "outputs": [
    {
     "name": "stdout",
     "output_type": "stream",
     "text": [
      "INFO:tensorflow:Calling model_fn.\n",
      "INFO:tensorflow:Done calling model_fn.\n",
      "INFO:tensorflow:Graph was finalized.\n",
      "INFO:tensorflow:Restoring parameters from C:\\Users\\preetham\\AppData\\Local\\Temp\\tmpkere2d7w\\model.ckpt-5000\n",
      "INFO:tensorflow:Running local_init_op.\n",
      "INFO:tensorflow:Done running local_init_op.\n",
      "Prediction is \"Setosa\" (89.1%), expected \"Setosa\"\n",
      "Prediction is \"Versicolor\" (48.1%), expected \"Versicolor\"\n",
      "Prediction is \"Virginica\" (64.8%), expected \"Virginica\"\n"
     ]
    }
   ],
   "source": [
    "for pred_dict, expec in zip(predictions, expected):\n",
    "    class_id = pred_dict['class_ids'][0]\n",
    "    probability = pred_dict['probabilities'][class_id]\n",
    "\n",
    "    print('Prediction is \"{}\" ({:.1f}%), expected \"{}\"'.format(\n",
    "        SPECIES[class_id], 100 * probability, expec))"
   ]
  },
  {
   "cell_type": "code",
   "execution_count": null,
   "metadata": {},
   "outputs": [],
   "source": []
  }
 ],
 "metadata": {
  "kernelspec": {
   "display_name": "Python 3",
   "language": "python",
   "name": "python3"
  },
  "language_info": {
   "codemirror_mode": {
    "name": "ipython",
    "version": 3
   },
   "file_extension": ".py",
   "mimetype": "text/x-python",
   "name": "python",
   "nbconvert_exporter": "python",
   "pygments_lexer": "ipython3",
   "version": "3.8.1"
  }
 },
 "nbformat": 4,
 "nbformat_minor": 4
}
